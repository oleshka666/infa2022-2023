{
 "cells": [
  {
   "cell_type": "code",
   "execution_count": null,
   "id": "46f391c0",
   "metadata": {},
   "outputs": [],
   "source": [
    "[[ i * j for j in range(m)] for i in range(n)]"
   ]
  },
  {
   "cell_type": "code",
   "execution_count": 4,
   "id": "04612e74",
   "metadata": {},
   "outputs": [
    {
     "name": "stdout",
     "output_type": "stream",
     "text": [
      "5 6\n",
      "[[0, 1, 2, 3, 4, 5], [6, 7, 8, 9, 10, 11], [12, 13, 14, 15, 16, 17], [18, 19, 20, 21, 22, 23], [24, 25, 26, 27, 28, 29]]\n"
     ]
    }
   ],
   "source": [
    "n,m=list(map(int, input().split()))\n",
    "A=[[ i*m + j for j in range(m)] for i in range(n)]\n",
    "print(A)"
   ]
  },
  {
   "cell_type": "code",
   "execution_count": 7,
   "id": "3834cd70",
   "metadata": {},
   "outputs": [
    {
     "name": "stdout",
     "output_type": "stream",
     "text": [
      "5 6\n",
      "[[0, 1, 1, 1, 1, 1], [2, 0, 1, 1, 1, 1], [2, 2, 0, 1, 1, 1], [2, 2, 2, 0, 1, 1], [2, 2, 2, 2, 0, 1]]\n"
     ]
    }
   ],
   "source": [
    "n,m=list(map(int, input().split()))\n",
    "\n",
    "def is_positive(x,y):\n",
    "    if x>y:\n",
    "        return 2\n",
    "    elif y>x:\n",
    "        return 1\n",
    "    else:\n",
    "        return 0\n",
    "    \n",
    "A=[[ is_positive(i,j) for j in range(m)] for i in range(n)]\n",
    "print(A)"
   ]
  },
  {
   "cell_type": "code",
   "execution_count": 10,
   "id": "292595c5",
   "metadata": {},
   "outputs": [
    {
     "name": "stdout",
     "output_type": "stream",
     "text": [
      "5\n",
      "[[0, 1, 2, 3, 4, 5], [1, 1, 2, 3, 4, 5], [2, 2, 2, 3, 4, 5], [3, 3, 3, 3, 4, 5], [4, 4, 4, 4, 4, 5]]\n"
     ]
    }
   ],
   "source": [
    "n=int(input())\n",
    "\n",
    "def is_positive(x,y):\n",
    "    if x>=y:\n",
    "        return x\n",
    "    else:\n",
    "        return y\n",
    "    \n",
    "A=[[ is_positive(i,j) for j in range(m)] for i in range(n)]\n",
    "print(A)\n"
   ]
  },
  {
   "cell_type": "code",
   "execution_count": 33,
   "id": "3df196ad",
   "metadata": {},
   "outputs": [
    {
     "name": "stdout",
     "output_type": "stream",
     "text": [
      "['hduhudhf \\n', ' odjidjdeij \\n', ' feijfeifj\\n']\n",
      "hduhudhf \n",
      "  odjidjdeij \n",
      "  feijfeifj\n",
      "\n"
     ]
    }
   ],
   "source": [
    "text='hduhudhf \\n odjidjdeij \\n feijfeifj\\n'\n",
    "# fp=open('foo.txt', 'w')\n",
    "# fp.write(text)\n",
    "# fp.close()\n",
    "\n",
    "with open('foo.txt', 'w') as fp:\n",
    "    fp.write(text)\n",
    "\n",
    "with open('foo.txt', 'r') as fp:\n",
    "    s=fp.readlines()\n",
    "    #print(s)\n",
    "\n",
    "s.reverse\n",
    "print(*s)"
   ]
  },
  {
   "cell_type": "code",
   "execution_count": 28,
   "id": "b86e5cc2",
   "metadata": {},
   "outputs": [
    {
     "name": "stdout",
     "output_type": "stream",
     "text": [
      "\n",
      "jfiefjief \n",
      " jiedjdijdo \n",
      " fhduhudh\n"
     ]
    }
   ],
   "source": [
    "text='hduhudhf \\n odjidjdeij \\n feijfeifj\\n'\n",
    "with open('foo.txt', 'w') as fp:\n",
    "    fp.write(text)\n",
    "\n",
    "with open('foo.txt', 'r') as fp:\n",
    "    s1=fp.read()\n",
    "    s2=s1.split('\\n')\n",
    "    s2.reverse()\n",
    "\n",
    "for i in s2:\n",
    "    print(i[::-1], end='\\n')\n",
    "    \n"
   ]
  },
  {
   "cell_type": "code",
   "execution_count": 41,
   "id": "3b221490",
   "metadata": {},
   "outputs": [
    {
     "name": "stdout",
     "output_type": "stream",
     "text": [
      "[['Иванов', 'Сергей', '9', '90'], ['Сергеев', 'Петр', '10', '91'], ['Петров', 'Василий', '11', '92'], ['Васильев', 'Иван', '9', '93']]\n",
      "93 91 92\n"
     ]
    }
   ],
   "source": [
    "text='Иванов Сергей 9 90 \\n Сергеев Петр 10 91 \\n Петров Василий 11 92 \\n Васильев Иван 9 93 \\n' \n",
    "with open('foo.txt', 'w') as fp:\n",
    "    fp.write(text)\n",
    "\n",
    "with open('foo.txt', 'r') as fp:\n",
    "    s=list(map( lambda x: x.rstrip().split(), fp.readlines()))\n",
    "    print(s)\n",
    "a=[0, 0, 0]\n",
    "for i in s:\n",
    "    if int(i[3])>a[int(i[2])%9]:\n",
    "        a[int(i[2])%9]=int(i[3])\n",
    "print(*a)"
   ]
  },
  {
   "cell_type": "code",
   "execution_count": 61,
   "id": "673248be",
   "metadata": {},
   "outputs": [
    {
     "name": "stdout",
     "output_type": "stream",
     "text": [
      "13 35\n"
     ]
    }
   ],
   "source": [
    "text='Иванов Сергей 13 80 \\n Сергеев Петр 26 70 \\n Сергеев Андрей 35 80 \\n Петров Василий 13 80 \\n Иванов Роман 35 70 \\n Иванов Иван 26 70 \\n' \n",
    "with open('foo.txt', 'w') as fp:\n",
    "    fp.write(text)\n",
    "\n",
    "with open('foo.txt', 'r') as fp:\n",
    "    s=list(map( lambda x: x.rstrip().split(), fp.readlines()))\n",
    "    #print(s)\n",
    "\n",
    "M,S=max([ int(i[3]) for i in s]),set()\n",
    "\n",
    "for i in s:\n",
    "    if int(i[3])==M:\n",
    "        S.add(int(i[2]))\n",
    "        \n",
    "print(*sorted(list(S)))\n"
   ]
  },
  {
   "cell_type": "code",
   "execution_count": 105,
   "id": "884db55d",
   "metadata": {},
   "outputs": [
    {
     "name": "stdout",
     "output_type": "stream",
     "text": [
      "Сергеев Андрей 80 \n",
      "Петров Василий 80 \n",
      "Иванов Иван 70 \n",
      "Сергеев Петр 70 \n",
      "Иванов Роман 70 \n",
      "Иванов Сергей 80 \n",
      "\n"
     ]
    }
   ],
   "source": [
    "text='Иванов Сергей 13 80 \\n Сергеев Петр 26 70 \\n Сергеев Андрей 35 80 \\n Петров Василий 13 80 \\n Иванов Роман 35 70 \\n Иванов Иван 26 70 \\n' \n",
    "with open('foo.txt', 'w') as fp:\n",
    "    fp.write(text)\n",
    "\n",
    "with open('foo.txt', 'r') as fp:\n",
    "    s=list(map( lambda x: x.rstrip().split(), fp.readlines()))\n",
    "    #print(s)\n",
    "s2=''\n",
    "for *i,k,z in sorted(s, key=lambda s: s[1]):\n",
    "    #print(i, k ,z) \n",
    "    #print(i+[z]+['\\n'])\n",
    "    s2+=' '.join(i+[z]+['\\n'])\n",
    "# print(*(' '.join(s2)))\n",
    "print(s2)\n"
   ]
  },
  {
   "cell_type": "code",
   "execution_count": 106,
   "id": "076dfc4c",
   "metadata": {},
   "outputs": [
    {
     "name": "stdout",
     "output_type": "stream",
     "text": [
      "91.5 91.0 92.0\n"
     ]
    }
   ],
   "source": [
    "text='Иванов Сергей 9 90 \\n Сергеев Петр 10 91 \\n Петров Василий 11 92 \\n Васильев Иван 9 93 \\n' \n",
    "with open('foo.txt', 'w') as fp:\n",
    "    fp.write(text)\n",
    "\n",
    "with open('foo.txt', 'r') as fp:\n",
    "    s=list(map( lambda x: x.rstrip().split(), fp.readlines()))\n",
    "    #print(s)\n",
    "    \n",
    "a,st={'9': [0], '10': [0], '11':[0]},''\n",
    "for i in s:\n",
    "    a[i[2]]+=[int(i[3])]\n",
    "\n",
    "for j in a.values():\n",
    "    st+=str(sum(j)/(len(j)-1))+' '\n",
    "    \n",
    "print(st[:-1])"
   ]
  },
  {
   "cell_type": "code",
   "execution_count": null,
   "id": "ba3ca48a",
   "metadata": {},
   "outputs": [],
   "source": []
  }
 ],
 "metadata": {
  "kernelspec": {
   "display_name": "Python 3 (ipykernel)",
   "language": "python",
   "name": "python3"
  },
  "language_info": {
   "codemirror_mode": {
    "name": "ipython",
    "version": 3
   },
   "file_extension": ".py",
   "mimetype": "text/x-python",
   "name": "python",
   "nbconvert_exporter": "python",
   "pygments_lexer": "ipython3",
   "version": "3.10.6"
  }
 },
 "nbformat": 4,
 "nbformat_minor": 5
}
