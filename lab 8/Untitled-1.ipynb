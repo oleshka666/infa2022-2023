{
 "cells": [
  {
   "cell_type": "code",
   "execution_count": 2,
   "metadata": {},
   "outputs": [
    {
     "name": "stdout",
     "output_type": "stream",
     "text": [
      "pygame 2.1.2 (SDL 2.0.18, Python 3.10.6)\n",
      "Hello from the pygame community. https://www.pygame.org/contribute.html\n"
     ]
    }
   ],
   "source": [
    "import pygame\n",
    "from pygame.draw import *\n",
    "from random import randint"
   ]
  },
  {
   "cell_type": "code",
   "execution_count": 3,
   "metadata": {},
   "outputs": [
    {
     "name": "stdout",
     "output_type": "stream",
     "text": [
      "Help on module pygame.draw in pygame:\n",
      "\n",
      "NAME\n",
      "    pygame.draw - pygame module for drawing shapes\n",
      "\n",
      "FUNCTIONS\n",
      "    aaline(...)\n",
      "        aaline(surface, color, start_pos, end_pos) -> Rect\n",
      "        aaline(surface, color, start_pos, end_pos, blend=1) -> Rect\n",
      "        draw a straight antialiased line\n",
      "    \n",
      "    aalines(...)\n",
      "        aalines(surface, color, closed, points) -> Rect\n",
      "        aalines(surface, color, closed, points, blend=1) -> Rect\n",
      "        draw multiple contiguous straight antialiased line segments\n",
      "    \n",
      "    arc(...)\n",
      "        arc(surface, color, rect, start_angle, stop_angle) -> Rect\n",
      "        arc(surface, color, rect, start_angle, stop_angle, width=1) -> Rect\n",
      "        draw an elliptical arc\n",
      "    \n",
      "    circle(...)\n",
      "        circle(surface, color, center, radius) -> Rect\n",
      "        circle(surface, color, center, radius, width=0, draw_top_right=None, draw_top_left=None, draw_bottom_left=None, draw_bottom_right=None) -> Rect\n",
      "        draw a circle\n",
      "    \n",
      "    ellipse(...)\n",
      "        ellipse(surface, color, rect) -> Rect\n",
      "        ellipse(surface, color, rect, width=0) -> Rect\n",
      "        draw an ellipse\n",
      "    \n",
      "    line(...)\n",
      "        line(surface, color, start_pos, end_pos) -> Rect\n",
      "        line(surface, color, start_pos, end_pos, width=1) -> Rect\n",
      "        draw a straight line\n",
      "    \n",
      "    lines(...)\n",
      "        lines(surface, color, closed, points) -> Rect\n",
      "        lines(surface, color, closed, points, width=1) -> Rect\n",
      "        draw multiple contiguous straight line segments\n",
      "    \n",
      "    polygon(...)\n",
      "        polygon(surface, color, points) -> Rect\n",
      "        polygon(surface, color, points, width=0) -> Rect\n",
      "        draw a polygon\n",
      "    \n",
      "    rect(...)\n",
      "        rect(surface, color, rect) -> Rect\n",
      "        rect(surface, color, rect, width=0, border_radius=0, border_top_left_radius=-1, border_top_right_radius=-1, border_bottom_left_radius=-1, border_bottom_right_radius=-1) -> Rect\n",
      "        draw a rectangle\n",
      "\n",
      "FILE\n",
      "    c:\\users\\olegp\\appdata\\local\\programs\\python\\python310\\lib\\site-packages\\pygame\\draw.cp310-win_amd64.pyd\n",
      "\n",
      "\n"
     ]
    }
   ],
   "source": [
    "help(pygame.draw).read"
   ]
  }
 ],
 "metadata": {
  "kernelspec": {
   "display_name": "Python 3",
   "language": "python",
   "name": "python3"
  },
  "language_info": {
   "codemirror_mode": {
    "name": "ipython",
    "version": 3
   },
   "file_extension": ".py",
   "mimetype": "text/x-python",
   "name": "python",
   "nbconvert_exporter": "python",
   "pygments_lexer": "ipython3",
   "version": "3.10.6 (tags/v3.10.6:9c7b4bd, Aug  1 2022, 21:53:49) [MSC v.1932 64 bit (AMD64)]"
  },
  "orig_nbformat": 4,
  "vscode": {
   "interpreter": {
    "hash": "7f298933448abd1c737f70fde5374de40f2a3aea4df38ffeebddc535234f0b94"
   }
  }
 },
 "nbformat": 4,
 "nbformat_minor": 2
}
